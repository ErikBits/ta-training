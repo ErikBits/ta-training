{
 "cells": [
  {
   "cell_type": "markdown",
   "metadata": {},
   "source": [
    "\n",
    "# Endurance Testing\n",
    "\n",
    "Endurance performance testing, also known as soak testing or stability testing, is a type of performance testing that focuses on evaluating the long-term stability and responsiveness of a system under sustained load. While traditional performance tests often focus on peak performance and response times under stressful scenarios, endurance testing aims to ensure the system can reliably handle prolonged usage without degrading in performance or functionality.\n",
    "\n",
    "## Goals:\n",
    "\n",
    "- Identify stability issues: Uncover vulnerabilities or weaknesses that might emerge during extended use.\n",
    "- Measure resource utilization: Monitor system resources like CPU, memory, and network bandwidth over time.\n",
    "- Evaluate long-term responsiveness: Ensure response times and functionality remain acceptable throughout the test.\n",
    "- Prevent cascading failures: Detect potential issues that could lead to complete system crashes or outages.\n",
    "\n",
    "## Typical approach:\n",
    "\n",
    "- Simulate realistic workload: Create a test scenario that mimics real-world user traffic and activity patterns.\n",
    "- Sustained load: Apply the simulated workload for an extended duration, often ranging from hours to days or even weeks.\n",
    "- Monitor key metrics: Regularly track performance metrics like response times, resource usage, error rates, and system logs.\n",
    "- Analyze results: Identify any trends, bottlenecks, or issues that indicate potential instability or performance degradation.\n",
    "\n",
    "## Benefits:\n",
    "\n",
    "- Increased confidence: Provides higher confidence in the system's ability to handle real-world use over time.\n",
    "- Early detection of issues: Helps identify and address potential problems before they impact real users.\n",
    "- Improved resource allocation: Better understanding of resource utilization for efficient resource allocation and scaling.\n",
    "- Preventive maintenance: Enables proactive measures to prevent outages and maintain system stability.\n",
    "\n",
    "\n",
    "## Examples of systems suitable for endurance testing:\n",
    "\n",
    "-  Web applications and APIs\n",
    "- Database systems\n",
    "- Messaging platforms\n",
    "- Streaming services\n",
    "- Microservices architectures\n",
    "- Network infrastructure\n",
    "\n",
    "## Considerations:\n",
    "\n",
    "- Test duration: Duration should be representative of expected real-world usage patterns.\n",
    "- Workload scalability: Ensure the test workload can be scaled to realistic levels.\n",
    "- Resource monitoring: Choose appropriate tools and metrics for effective monitoring.\n",
    "- Cost-effectiveness: Balance the benefits of long-duration testing with potential resource and time constraints.\n",
    "- Remember, endurance testing is a vital component of a comprehensive performance testing strategy, helping ensure your systems can withstand the demands of prolonged use and deliver a reliable and stable user experience.\n",
    "\n",
    "\n"
   ]
  },
  {
   "cell_type": "markdown",
   "metadata": {},
   "source": [
    "## Implementation\n",
    "\n",
    "For our specific, simple webapp we have both backend and frontend endpoint we would like to conduct performance tests on. The specific endpoints and actions can be found in the LF (Locust File). These are basic implementations and the more interesting aspects can be found in the configuration files. Here the amount of users and the spawn rate can be set.\n",
    "\n",
    "For the endurance tests a relatively low amount of users and spawn rate is set. Should run for days or even weeks"
   ]
  },
  {
   "cell_type": "markdown",
   "metadata": {},
   "source": []
  }
 ],
 "metadata": {
  "kernelspec": {
   "display_name": "Python 3",
   "language": "python",
   "name": "python3"
  },
  "language_info": {
   "codemirror_mode": {
    "name": "ipython",
    "version": 3
   },
   "file_extension": ".py",
   "mimetype": "text/x-python",
   "name": "python",
   "nbconvert_exporter": "python",
   "pygments_lexer": "ipython3",
   "version": "3.12.1"
  }
 },
 "nbformat": 4,
 "nbformat_minor": 2
}

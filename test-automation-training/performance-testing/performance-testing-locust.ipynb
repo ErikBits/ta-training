{
 "cells": [
  {
   "cell_type": "markdown",
   "metadata": {},
   "source": [
    "Not sure if this lends itself to notebook as I need either CLI or the UI to insert hostname"
   ]
  },
  {
   "cell_type": "code",
   "execution_count": 1,
   "metadata": {},
   "outputs": [
    {
     "ename": "ModuleNotFoundError",
     "evalue": "No module named 'locust'",
     "output_type": "error",
     "traceback": [
      "\u001b[1;31m---------------------------------------------------------------------------\u001b[0m",
      "\u001b[1;31mModuleNotFoundError\u001b[0m                       Traceback (most recent call last)",
      "Cell \u001b[1;32mIn[1], line 1\u001b[0m\n\u001b[1;32m----> 1\u001b[0m \u001b[38;5;28;01mfrom\u001b[39;00m \u001b[38;5;21;01mlocust\u001b[39;00m \u001b[38;5;28;01mimport\u001b[39;00m HttpUser, task\n",
      "\u001b[1;31mModuleNotFoundError\u001b[0m: No module named 'locust'"
     ]
    }
   ],
   "source": [
    "from locust import HttpUser, task, between\n",
    "import time\n",
    "\n",
    "class QualitierUser(HttpUser):\n",
    "    wait_time = between(1, 5)\n",
    "\n",
    "    @task\n",
    "    def qualitier_dashboard(self):\n",
    "        self.client.get(\"/\")\n",
    "\n",
    "    @task\n",
    "    def on_start(self):\n",
    "        res = self.client.post(\"/login\", data={\"username\": \"admin\", \"password\": \"a\"})\n",
    "        if res.status_code != 200:\n",
    "            print('login failed')\n",
    "\n"
   ]
  },
  {
   "cell_type": "code",
   "execution_count": null,
   "metadata": {},
   "outputs": [],
   "source": []
  }
 ],
 "metadata": {
  "kernelspec": {
   "display_name": "Python 3",
   "language": "python",
   "name": "python3"
  },
  "language_info": {
   "codemirror_mode": {
    "name": "ipython",
    "version": 3
   },
   "file_extension": ".py",
   "mimetype": "text/x-python",
   "name": "python",
   "nbconvert_exporter": "python",
   "pygments_lexer": "ipython3",
   "version": "3.12.1"
  }
 },
 "nbformat": 4,
 "nbformat_minor": 2
}

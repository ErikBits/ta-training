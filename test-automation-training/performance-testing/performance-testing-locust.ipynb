{
 "cells": [
  {
   "cell_type": "markdown",
   "metadata": {},
   "source": [
    "\n",
    "# Performance Testing\n",
    "\n",
    "## What is performance testing?\n",
    "\n",
    "Performance testing is a systematic process of evaluating the responsiveness, stability, and scalability of a software application or system under various load conditions. It aims to identify potential bottlenecks, measure resource utilization, and ensure the system meets performance expectations under real-world usage scenarios.\n",
    "\n",
    "## Why is it important?\n",
    "\n",
    "Performance testing is crucial for building reliable, scalable, and user-friendly systems. It helps you:\n",
    "- Prevent performance issues: Identify and address potential bottlenecks before they impact users.\n",
    "- Ensure user satisfaction: Maintain responsiveness and acceptable performance under expected load.\n",
    "- Make informed decisions: Optimize resource allocation, choose appropriate hardware, and guide system architecture choices.\n",
    "- Plan for future growth: Understand how the system will handle anticipated increases in users or data.\n",
    "\n",
    "## Different types of performance testing:\n",
    "\n",
    "There are various types of performance testing, each focusing on different aspects of system behavior:\n",
    "- Load testing: Measures performance under increasing levels of concurrent users or workload.\n",
    "- Endurance testing (soak testing): Evaluates stability and performance over sustained load for extended periods.\n",
    "- Spike testing: Assesses how the system handles sudden bursts of high activity.\n",
    "- Stress testing: Pushes the system beyond its expected limits to identify breaking points.\n",
    "- Volume testing: Examines how the system handles large amounts of data.\n",
    "- Failover testing: Verifies the system's ability to recover from failures gracefully.\n",
    "- Security testing: Combines performance and security considerations to ensure security measures don't impact performance.\n",
    "- Compatibility testing: Tests performance on different hardware, software, or network configurations.\n",
    "- Regression testing: Checks if new code or configuration changes introduce performance regressions.\n",
    "- Mobile performance testing: Specifically focuses on mobile application performance on various devices and networks.\n",
    "\n",
    "## The testing process:\n",
    "- Define goals and metrics: Determine what you want to measure and the expected performance criteria.\n",
    "- Choose appropriate testing type(s): Select the tests that align with your goals and system characteristics.\n",
    "- Design realistic test scenarios: Simulate realistic user behavior, workload patterns, and data volumes.\n",
    "- Execute the tests: Use appropriate tools and methodologies to apply the defined load or stress.\n",
    "- Monitor and analyze results: Track key metrics, identify bottlenecks, and interpret the overall performance behavior.\n",
    "- Take action: Address identified issues, optimize the system, and plan for future improvements.\n",
    "\n",
    "## Remember:\n",
    "\n",
    "Performance testing is an iterative process that should be conducted throughout the development lifecycle.\n",
    "The specific types of tests and their importance will vary depending on your unique system and requirements.\n",
    "Effective communication and collaboration between development, testing, and operations teams are crucial for successful performance testing.\n",
    "I hope this comprehensive explanation provides a clear understanding of performance testing and its value in building high-quality, performant systems."
   ]
  },
  {
   "cell_type": "code",
   "execution_count": 1,
   "metadata": {},
   "outputs": [
    {
     "ename": "ModuleNotFoundError",
     "evalue": "No module named 'locust'",
     "output_type": "error",
     "traceback": [
      "\u001b[1;31m---------------------------------------------------------------------------\u001b[0m",
      "\u001b[1;31mModuleNotFoundError\u001b[0m                       Traceback (most recent call last)",
      "Cell \u001b[1;32mIn[1], line 1\u001b[0m\n\u001b[1;32m----> 1\u001b[0m \u001b[38;5;28;01mfrom\u001b[39;00m \u001b[38;5;21;01mlocust\u001b[39;00m \u001b[38;5;28;01mimport\u001b[39;00m HttpUser, task\n",
      "\u001b[1;31mModuleNotFoundError\u001b[0m: No module named 'locust'"
     ]
    }
   ],
   "source": [
    "from locust import HttpUser, task, between\n",
    "import time\n",
    "\n",
    "class QualitierUser(HttpUser):\n",
    "    wait_time = between(1, 5)\n",
    "\n",
    "    @task\n",
    "    def qualitier_dashboard(self):\n",
    "        self.client.get(\"/\")\n",
    "\n",
    "    @task\n",
    "    def on_start(self):\n",
    "        res = self.client.post(\"/login\", data={\"username\": \"admin\", \"password\": \"a\"})\n",
    "        if res.status_code != 200:\n",
    "            print('login failed')\n",
    "\n"
   ]
  },
  {
   "cell_type": "code",
   "execution_count": null,
   "metadata": {},
   "outputs": [],
   "source": []
  }
 ],
 "metadata": {
  "kernelspec": {
   "display_name": "Python 3",
   "language": "python",
   "name": "python3"
  },
  "language_info": {
   "codemirror_mode": {
    "name": "ipython",
    "version": 3
   },
   "file_extension": ".py",
   "mimetype": "text/x-python",
   "name": "python",
   "nbconvert_exporter": "python",
   "pygments_lexer": "ipython3",
   "version": "3.12.1"
  }
 },
 "nbformat": 4,
 "nbformat_minor": 2
}
